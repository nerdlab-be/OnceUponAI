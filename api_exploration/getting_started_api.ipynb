{
 "cells": [
  {
   "cell_type": "markdown",
   "metadata": {},
   "source": [
    "# An attempt at using the cogent API\n",
    "An attempt made by an electromechanical engineer, not a programmer, so be warned"
   ]
  },
  {
   "cell_type": "markdown",
   "metadata": {},
   "source": [
    "## First aid with Linked Data Event Stream\n",
    "The collection is semantically stored: there is no fixed data model necessary. It is possible to access the data from different angels.\n",
    "\n",
    "Depending on the time you have & your interest, I curated some articles on this approach:\n",
    "\n",
    "* If you know nothing about LDES or semantic descriptions, following article explains it in 8 minutes https://medium.com/@samuel.vanackere/linked-data-event-streams-explained-in-8-minutes-e1c76d077bb9 \n",
    "* If you want to know how to backend of the collection of Ghent functions, you can view following 6 minutes video: https://youtu.be/8_0QSEj_Qhg\n",
    "* If you want to have the broader picture (why does LDES exists, where does it fit in within the internet landscape, who is building it...), check out following course (+-2 hours): https://academy.europa.eu/course/view.php?id=239 \n",
    "\n",
    "\n",
    "\n"
   ]
  },
  {
   "cell_type": "markdown",
   "metadata": {},
   "source": [
    "## LDES event stream of the collection of Ghent\n",
    "\n",
    "The base URL of the collection is https://apidg.gent.be/opendata/adlib2eventstream/v1/\n",
    "\n",
    "I will use python to demonstrate the use."
   ]
  },
  {
   "cell_type": "code",
   "execution_count": null,
   "metadata": {},
   "outputs": [],
   "source": [
    "import httpx \n",
    "import json"
   ]
  },
  {
   "cell_type": "code",
   "execution_count": null,
   "metadata": {},
   "outputs": [],
   "source": [
    "base = \"https://apidg.gent.be/opendata/adlib2eventstream/v1/\"\n",
    "datasets = httpx.get(base).json()\n",
    "\n",
    "print(json.dumps(datasets,indent=4))"
   ]
  },
  {
   "cell_type": "code",
   "execution_count": null,
   "metadata": {},
   "outputs": [],
   "source": [
    "# Let's pick out the first dataset of the catalog:\n",
    "dataset = datasets[\"Datasetcatalogus.heeftDataset\"][5]\n",
    "\n",
    "print(dataset[\"Dataset.beschrijving\"])\n",
    "print(dataset[\"tree:view\"])"
   ]
  },
  {
   "cell_type": "code",
   "execution_count": null,
   "metadata": {},
   "outputs": [],
   "source": [
    "objects = httpx.get(dataset[\"tree:view\"],follow_redirects=True).json()\n",
    "objects"
   ]
  },
  {
   "cell_type": "markdown",
   "metadata": {},
   "source": []
  }
 ],
 "metadata": {
  "kernelspec": {
   "display_name": "Python 3.10.8",
   "language": "python",
   "name": "python3"
  },
  "language_info": {
   "codemirror_mode": {
    "name": "ipython",
    "version": 3
   },
   "file_extension": ".py",
   "mimetype": "text/x-python",
   "name": "python",
   "nbconvert_exporter": "python",
   "pygments_lexer": "ipython3",
   "version": "3.10.8"
  },
  "orig_nbformat": 4,
  "vscode": {
   "interpreter": {
    "hash": "32d38f44c8ba4ff7c98f5dff726312e844670e5cebc23d919191b3c488fdc81f"
   }
  }
 },
 "nbformat": 4,
 "nbformat_minor": 2
}
